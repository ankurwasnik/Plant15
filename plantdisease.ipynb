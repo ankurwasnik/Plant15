{
 "cells": [
  {
   "cell_type": "code",
   "execution_count": 1,
   "metadata": {},
   "outputs": [
    {
     "name": "stdout",
     "output_type": "stream",
     "text": [
      "All libs are imported\n"
     ]
    }
   ],
   "source": [
    "import tensorflow as tf\n",
    "import numpy as np\n",
    "import pandas as pd\n",
    "from tensorflow.keras.preprocessing.image import ImageDataGenerator\n",
    "from PIL import Image\n",
    "import PIL\n",
    "from keras.preprocessing import image\n",
    "print('All libs are imported')"
   ]
  },
  {
   "cell_type": "code",
   "execution_count": 2,
   "metadata": {},
   "outputs": [],
   "source": [
    "TRAINING_DIR =\"./train/\"\n",
    "VALIDATION_DIR ='./valid/'\n",
    "TESTING_DIR ='./test/'\n",
    "\n"
   ]
  },
  {
   "cell_type": "code",
   "execution_count": 3,
   "metadata": {},
   "outputs": [
    {
     "name": "stdout",
     "output_type": "stream",
     "text": [
      "Found 20638 images belonging to 15 classes.\n",
      "Found 4534 images belonging to 15 classes.\n",
      "Found 4410 images belonging to 15 classes.\n"
     ]
    }
   ],
   "source": [
    "train_datagen = ImageDataGenerator(\n",
    "        rescale=1./255 ,\n",
    "        rotation_range=40,\n",
    "        width_shift_range=0.2,\n",
    "        height_shift_range=0.2,\n",
    "        zoom_range=0.4,\n",
    "        shear_range=0.2,\n",
    "        horizontal_flip=True,\n",
    "        fill_mode='nearest'\n",
    "    )\n",
    "valid_datagen=ImageDataGenerator(\n",
    "    rescale=1/255.0 ,\n",
    "    rotation_range=40,\n",
    "        width_shift_range=0.2,\n",
    "        height_shift_range=0.2,\n",
    "        zoom_range=0.4,\n",
    "        shear_range=0.2,\n",
    "        horizontal_flip=True,\n",
    "        fill_mode='nearest'\n",
    ")\n",
    "\n",
    "test_datagen=ImageDataGenerator(\n",
    "    rescale=1/255.0\n",
    ")\n",
    "\n",
    "#INSTANTIATE DATAGEN'S\n",
    "train_flow = train_datagen.flow_from_directory(\n",
    "    TRAINING_DIR,\n",
    "    batch_size=32,\n",
    "    class_mode='categorical',\n",
    "    target_size=(416,416)\n",
    "    )\n",
    "valid_flow=valid_datagen.flow_from_directory(\n",
    "    VALIDATION_DIR,\n",
    "    batch_size=32,\n",
    "    class_mode='categorical',\n",
    "    target_size=(416,416)\n",
    "    )\n",
    "test_flow=test_datagen.flow_from_directory(\n",
    "    TESTING_DIR,\n",
    "    batch_size=1,\n",
    "    class_mode='categorical',\n",
    "    target_size=(416,416)\n",
    "    )\n"
   ]
  },
  {
   "cell_type": "code",
   "execution_count": 4,
   "metadata": {},
   "outputs": [],
   "source": [
    "ACCURACY_THRESHOLD = 0.95\n",
    "class MyCallbacks (tf.keras.callbacks.Callback):\n",
    "    def on_epoch_end(self,epoch,logs={}):\n",
    "        if logs.get('acc') >= ACCURACY_THRESHOLD :\n",
    "            print('Training is stopped !!! \\n {} Accuracy reached !'.format(ACCURACY_THRESHOLD*100))\n",
    "            self.model.stop_training = True\n",
    "callbacks = MyCallbacks()"
   ]
  },
  {
   "cell_type": "markdown",
   "metadata": {},
   "source": []
  },
  {
   "cell_type": "code",
   "execution_count": 5,
   "metadata": {},
   "outputs": [
    {
     "name": "stdout",
     "output_type": "stream",
     "text": [
      "Model: \"sequential\"\n",
      "_________________________________________________________________\n",
      "Layer (type)                 Output Shape              Param #   \n",
      "=================================================================\n",
      "conv2d (Conv2D)              (None, 414, 414, 16)      448       \n",
      "_________________________________________________________________\n",
      "max_pooling2d (MaxPooling2D) (None, 207, 207, 16)      0         \n",
      "_________________________________________________________________\n",
      "conv2d_1 (Conv2D)            (None, 205, 205, 32)      4640      \n",
      "_________________________________________________________________\n",
      "max_pooling2d_1 (MaxPooling2 (None, 102, 102, 32)      0         \n",
      "_________________________________________________________________\n",
      "conv2d_2 (Conv2D)            (None, 100, 100, 32)      9248      \n",
      "_________________________________________________________________\n",
      "max_pooling2d_2 (MaxPooling2 (None, 50, 50, 32)        0         \n",
      "_________________________________________________________________\n",
      "conv2d_3 (Conv2D)            (None, 48, 48, 64)        18496     \n",
      "_________________________________________________________________\n",
      "max_pooling2d_3 (MaxPooling2 (None, 24, 24, 64)        0         \n",
      "_________________________________________________________________\n",
      "conv2d_4 (Conv2D)            (None, 22, 22, 64)        36928     \n",
      "_________________________________________________________________\n",
      "max_pooling2d_4 (MaxPooling2 (None, 11, 11, 64)        0         \n",
      "_________________________________________________________________\n",
      "conv2d_5 (Conv2D)            (None, 9, 9, 64)          36928     \n",
      "_________________________________________________________________\n",
      "max_pooling2d_5 (MaxPooling2 (None, 4, 4, 64)          0         \n",
      "_________________________________________________________________\n",
      "flatten (Flatten)            (None, 1024)              0         \n",
      "_________________________________________________________________\n",
      "dense (Dense)                (None, 512)               524800    \n",
      "_________________________________________________________________\n",
      "dense_1 (Dense)              (None, 15)                7695      \n",
      "=================================================================\n",
      "Total params: 639,183\n",
      "Trainable params: 639,183\n",
      "Non-trainable params: 0\n",
      "_________________________________________________________________\n",
      "None\n"
     ]
    }
   ],
   "source": [
    "model = tf.keras.models.Sequential([\n",
    "    tf.keras.layers.Conv2D(filters=16,kernel_size=(3,3), activation='relu',input_shape=(416,416,3)),\n",
    "    tf.keras.layers.MaxPooling2D(2,2),\n",
    "    tf.keras.layers.Conv2D(filters=32,kernel_size=(3,3),activation='relu'),\n",
    "    tf.keras.layers.MaxPooling2D(2,2),\n",
    "    tf.keras.layers.Conv2D(filters=32,kernel_size=(3,3),activation='relu'),\n",
    "    tf.keras.layers.MaxPooling2D(2,2),\n",
    "    tf.keras.layers.Conv2D(filters=64,kernel_size=(3,3),activation='relu'),\n",
    "    tf.keras.layers.MaxPooling2D(2,2),\n",
    "    tf.keras.layers.Conv2D(filters=64,kernel_size=(3,3),activation='relu'),\n",
    "    tf.keras.layers.MaxPooling2D(2,2),\n",
    "    tf.keras.layers.Conv2D(filters=64,kernel_size=(3,3),activation='relu'),\n",
    "    tf.keras.layers.MaxPooling2D(2,2),\n",
    "    tf.keras.layers.Flatten(),\n",
    "    tf.keras.layers.Dense(512,activation='relu'),\n",
    "    tf.keras.layers.Dense(15,activation='softmax')\n",
    "    \n",
    "])\n",
    "print(model.summary())\n",
    "#we are using 'adam' optimizer and 'catagorical_entropy' loss \n",
    "model.compile( optimizer='adam' , loss =\"categorical_crossentropy\" , metrics=['acc'])"
   ]
  },
  {
   "cell_type": "code",
   "execution_count": 6,
   "metadata": {},
   "outputs": [
    {
     "name": "stdout",
     "output_type": "stream",
     "text": [
      "Epoch 1/30\n",
      "  2/645 [..............................] - ETA: 36s - loss: 2.6833 - acc: 0.0781   WARNING:tensorflow:Callbacks method `on_train_batch_end` is slow compared to the batch time (batch time: 0.0428s vs `on_train_batch_end` time: 0.0706s). Check your callbacks.\n",
      "645/645 [==============================] - 696s 1s/step - loss: 2.0148 - acc: 0.3351 - val_loss: 1.4488 - val_acc: 0.5179\n",
      "Epoch 2/30\n",
      "645/645 [==============================] - 821s 1s/step - loss: 1.1341 - acc: 0.6207 - val_loss: 0.9324 - val_acc: 0.6809\n",
      "Epoch 3/30\n",
      "645/645 [==============================] - 796s 1s/step - loss: 0.7950 - acc: 0.7297 - val_loss: 0.6716 - val_acc: 0.7704\n",
      "Epoch 4/30\n",
      "645/645 [==============================] - 707s 1s/step - loss: 0.6426 - acc: 0.7788 - val_loss: 0.6063 - val_acc: 0.7916\n",
      "Epoch 5/30\n",
      "645/645 [==============================] - 691s 1s/step - loss: 0.5023 - acc: 0.8258 - val_loss: 0.4982 - val_acc: 0.8273\n",
      "Epoch 6/30\n",
      "645/645 [==============================] - 677s 1s/step - loss: 0.4497 - acc: 0.8452 - val_loss: 0.4298 - val_acc: 0.8509\n",
      "Epoch 7/30\n",
      "645/645 [==============================] - 715s 1s/step - loss: 0.3763 - acc: 0.8717 - val_loss: 0.3954 - val_acc: 0.8633\n",
      "Epoch 8/30\n",
      "645/645 [==============================] - 721s 1s/step - loss: 0.3093 - acc: 0.8931 - val_loss: 0.3202 - val_acc: 0.8926\n",
      "Epoch 9/30\n",
      "645/645 [==============================] - 688s 1s/step - loss: 0.3003 - acc: 0.8960 - val_loss: 0.3797 - val_acc: 0.8721\n",
      "Epoch 10/30\n",
      "645/645 [==============================] - 712s 1s/step - loss: 0.2687 - acc: 0.9075 - val_loss: 0.2328 - val_acc: 0.9160\n",
      "Epoch 11/30\n",
      "645/645 [==============================] - 714s 1s/step - loss: 0.2483 - acc: 0.9161 - val_loss: 0.2806 - val_acc: 0.9094\n",
      "Epoch 12/30\n",
      "645/645 [==============================] - 710s 1s/step - loss: 0.2274 - acc: 0.9216 - val_loss: 0.2016 - val_acc: 0.9294\n",
      "Epoch 13/30\n",
      "645/645 [==============================] - 692s 1s/step - loss: 0.2232 - acc: 0.9231 - val_loss: 0.2156 - val_acc: 0.9270\n",
      "Epoch 14/30\n",
      "645/645 [==============================] - 681s 1s/step - loss: 0.2134 - acc: 0.9279 - val_loss: 0.2361 - val_acc: 0.9246\n",
      "Epoch 15/30\n",
      "645/645 [==============================] - 677s 1s/step - loss: 0.2072 - acc: 0.9297 - val_loss: 0.1657 - val_acc: 0.9477\n",
      "Epoch 16/30\n",
      "645/645 [==============================] - 679s 1s/step - loss: 0.1992 - acc: 0.9325 - val_loss: 0.1585 - val_acc: 0.9444\n",
      "Epoch 17/30\n",
      "645/645 [==============================] - 674s 1s/step - loss: 0.2024 - acc: 0.9302 - val_loss: 0.1662 - val_acc: 0.9473\n",
      "Epoch 18/30\n",
      "645/645 [==============================] - 665s 1s/step - loss: 0.1757 - acc: 0.9402 - val_loss: 0.2818 - val_acc: 0.9067\n",
      "Epoch 19/30\n",
      "645/645 [==============================] - 692s 1s/step - loss: 0.1789 - acc: 0.9407 - val_loss: 0.2202 - val_acc: 0.9290\n",
      "Epoch 20/30\n",
      "645/645 [==============================] - 1250s 2s/step - loss: 0.1732 - acc: 0.9422 - val_loss: 0.1541 - val_acc: 0.9453\n",
      "Epoch 21/30\n",
      "645/645 [==============================] - 1845s 3s/step - loss: 0.1671 - acc: 0.9422 - val_loss: 0.1128 - val_acc: 0.9605\n",
      "Epoch 22/30\n",
      "645/645 [==============================] - 1107s 2s/step - loss: 0.1666 - acc: 0.9432 - val_loss: 0.2081 - val_acc: 0.9285\n",
      "Epoch 23/30\n",
      "645/645 [==============================] - 927s 1s/step - loss: 0.1628 - acc: 0.9451 - val_loss: 0.1466 - val_acc: 0.9543\n",
      "Epoch 24/30\n",
      "645/645 [==============================] - 720s 1s/step - loss: 0.1577 - acc: 0.9481 - val_loss: 0.1593 - val_acc: 0.9431\n",
      "Epoch 25/30\n",
      "645/645 [==============================] - 734s 1s/step - loss: 0.1489 - acc: 0.9491 - val_loss: 0.1504 - val_acc: 0.9502\n",
      "Epoch 26/30\n",
      "645/645 [==============================] - 746s 1s/step - loss: 0.1590 - acc: 0.9468 - val_loss: 0.2374 - val_acc: 0.9171\n",
      "Epoch 27/30\n",
      "645/645 [==============================] - 700s 1s/step - loss: 0.1521 - acc: 0.9491 - val_loss: 0.1265 - val_acc: 0.9559\n",
      "Epoch 28/30\n",
      "645/645 [==============================] - 670s 1s/step - loss: 0.1476 - acc: 0.9493 - val_loss: 0.2432 - val_acc: 0.9175\n",
      "Epoch 29/30\n",
      "645/645 [==============================] - ETA: 0s - loss: 0.1461 - acc: 0.9517Training is stopped !!! \n",
      " 95.0 Accuracy reached !\n",
      "645/645 [==============================] - 727s 1s/step - loss: 0.1461 - acc: 0.9517 - val_loss: 0.2488 - val_acc: 0.9180\n"
     ]
    }
   ],
   "source": [
    "EPOCHES = 30\n",
    "history=model.fit(\n",
    "              train_flow,\n",
    "              epochs=EPOCHES,\n",
    "              validation_data=valid_flow,\n",
    "              callbacks=[callbacks]\n",
    "             )\n"
   ]
  },
  {
   "cell_type": "code",
   "execution_count": 8,
   "metadata": {},
   "outputs": [
    {
     "data": {
      "text/plain": [
       "Text(0.5, 1.0, 'Training and validation loss')"
      ]
     },
     "execution_count": 8,
     "metadata": {},
     "output_type": "execute_result"
    },
    {
     "data": {
      "image/png": "[encoded data removed]",
      "text/plain": [
       "<Figure size 432x288 with 1 Axes>"
      ]
     },
     "metadata": {
      "needs_background": "light"
     },
     "output_type": "display_data"
    },
    {
     "data": {
      "image/png": "[encoded data removed]",
      "text/plain": [
       "<Figure size 432x288 with 1 Axes>"
      ]
     },
     "metadata": {
      "needs_background": "light"
     },
     "output_type": "display_data"
    }
   ],
   "source": [
    "%matplotlib inline\n",
    "\n",
    "import matplotlib.image  as mpimg\n",
    "import matplotlib.pyplot as plt\n",
    "\n",
    "#-----------------------------------------------------------\n",
    "# Retrieve a list of list results on training and test data\n",
    "# sets for each training epoch\n",
    "#-----------------------------------------------------------\n",
    "acc=history.history['acc']\n",
    "val_acc=history.history['val_acc']\n",
    "loss=history.history['loss']\n",
    "val_loss=history.history['val_loss']\n",
    "\n",
    "epochs=range(len(acc)) # Get number of epochs\n",
    "\n",
    "#------------------------------------------------\n",
    "# Plot training and validation accuracy per epoch\n",
    "#------------------------------------------------\n",
    "plt.plot(epochs, acc, 'r', \"Training Accuracy\")\n",
    "plt.plot(epochs, val_acc, 'b', \"Validation Accuracy\")\n",
    "plt.title('Training and validation accuracy')\n",
    "plt.figure()\n",
    "\n",
    "#------------------------------------------------\n",
    "# Plot training and validation loss per epoch\n",
    "#------------------------------------------------\n",
    "plt.plot(epochs, loss, 'r', \"Training Loss\")\n",
    "plt.plot(epochs, val_loss, 'b', \"Validation Loss\")\n",
    "\n",
    "\n",
    "plt.title('Training and validation loss')\n"
   ]
  },
  {
   "cell_type": "code",
   "execution_count": 9,
   "metadata": {},
   "outputs": [
    {
     "name": "stdout",
     "output_type": "stream",
     "text": [
      "4410/4410 [==============================] - 43s 10ms/step - loss: 0.1466 - acc: 0.9517\n"
     ]
    },
    {
     "data": {
      "text/plain": [
       "[0.14655561745166779, 0.9517006874084473]"
      ]
     },
     "execution_count": 9,
     "metadata": {},
     "output_type": "execute_result"
    }
   ],
   "source": [
    "model.evaluate(test_flow)"
   ]
  },
  {
   "cell_type": "code",
   "execution_count": 10,
   "metadata": {},
   "outputs": [
    {
     "name": "stdout",
     "output_type": "stream",
     "text": [
      "WARNING:tensorflow:From /home/ankur/.local/lib/python3.8/site-packages/tensorflow/python/training/tracking/tracking.py:111: Model.state_updates (from tensorflow.python.keras.engine.training) is deprecated and will be removed in a future version.\n",
      "Instructions for updating:\n",
      "This property should not be used in TensorFlow 2.0, as updates are applied automatically.\n",
      "WARNING:tensorflow:From /home/ankur/.local/lib/python3.8/site-packages/tensorflow/python/training/tracking/tracking.py:111: Layer.updates (from tensorflow.python.keras.engine.base_layer) is deprecated and will be removed in a future version.\n",
      "Instructions for updating:\n",
      "This property should not be used in TensorFlow 2.0, as updates are applied automatically.\n",
      "INFO:tensorflow:Assets written to: ./saved_model/1/assets\n"
     ]
    }
   ],
   "source": [
    "export_dir = './saved_model/1/'\n",
    "tf.saved_model.save(model,export_dir)\n",
    "converter = tf.lite.TFLiteConverter.from_saved_model(export_dir)\n",
    "tflite_model = converter.convert()"
   ]
  },
  {
   "cell_type": "code",
   "execution_count": 11,
   "metadata": {},
   "outputs": [],
   "source": [
    "import pathlib\n",
    "tflite_model_file = pathlib.Path('./saved_model.tflite')\n",
    "tflite_model_file.write_bytes(tflite_model)\n",
    "with tf.io.gfile.GFile('model.tflite', 'wb') as f:\n",
    "  f.write(tflite_model)\n",
    "labels = train_flow.class_indices.keys()\n",
    "labels =list(labels)\n",
    "#labels.txt is created \n",
    "filename = 'labels.txt'\n",
    "with open(filename,\"w\") as f :\n",
    "    f.writelines(labels[0]+str(\"\\n\"))\n",
    "    f.writelines(labels[1]+str(\"\\n\"))\n",
    "interpreter = tf.lite.Interpreter(model_path=\"./saved_model.tflite\")\n",
    "interpreter.allocate_tensors()\n",
    "inputs = interpreter.get_input_details()\n",
    "outputs = interpreter.get_output_details()\n"
   ]
  },
  {
   "cell_type": "code",
   "execution_count": 12,
   "metadata": {},
   "outputs": [
    {
     "name": "stdout",
     "output_type": "stream",
     "text": [
      "[{'name': 'conv2d_input', 'index': 0, 'shape': array([  1, 416, 416,   3], dtype=int32), 'shape_signature': array([ -1, 416, 416,   3], dtype=int32), 'dtype': <class 'numpy.float32'>, 'quantization': (0.0, 0), 'quantization_parameters': {'scales': array([], dtype=float32), 'zero_points': array([], dtype=int32), 'quantized_dimension': 0}, 'sparsity_parameters': {}}]\n"
     ]
    }
   ],
   "source": [
    "print(inputs)"
   ]
  },
  {
   "cell_type": "code",
   "execution_count": 13,
   "metadata": {},
   "outputs": [
    {
     "name": "stdout",
     "output_type": "stream",
     "text": [
      "[{'name': 'Identity', 'index': 33, 'shape': array([ 1, 15], dtype=int32), 'shape_signature': array([-1, 15], dtype=int32), 'dtype': <class 'numpy.float32'>, 'quantization': (0.0, 0), 'quantization_parameters': {'scales': array([], dtype=float32), 'zero_points': array([], dtype=int32), 'quantized_dimension': 0}, 'sparsity_parameters': {}}]\n"
     ]
    }
   ],
   "source": [
    "print(outputs)"
   ]
  },
  {
   "cell_type": "markdown",
   "metadata": {},
   "source": [
    "# Summary :\n",
    "## Training acc : [ 94.5 %  , 95.5 % ]\n",
    "## Loss : max 16%\n",
    "## Input shapes : 416 x 416  images\n",
    "## Output Shapes : [ 1 , 15 ]\n",
    "\n",
    "# We are ready for deployment !"
   ]
  },
  {
   "cell_type": "code",
   "execution_count": null,
   "metadata": {},
   "outputs": [],
   "source": []
  }
 ],
 "metadata": {
  "kernelspec": {
   "display_name": "Python 3",
   "language": "python",
   "name": "python3"
  },
  "language_info": {
   "codemirror_mode": {
    "name": "ipython",
    "version": 3
   },
   "file_extension": ".py",
   "mimetype": "text/x-python",
   "name": "python",
   "nbconvert_exporter": "python",
   "pygments_lexer": "ipython3",
   "version": "3.8.5"
  }
 },
 "nbformat": 4,
 "nbformat_minor": 4
}
